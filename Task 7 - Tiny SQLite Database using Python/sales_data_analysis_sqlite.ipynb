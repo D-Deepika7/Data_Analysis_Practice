{
 "cells": [
  {
   "cell_type": "markdown",
   "id": "ce7626b7",
   "metadata": {},
   "source": [
    "## Load Libraries"
   ]
  },
  {
   "cell_type": "code",
   "execution_count": 11,
   "id": "713c731c",
   "metadata": {
    "ExecuteTime": {
     "end_time": "2025-07-04T06:19:08.354988Z",
     "start_time": "2025-07-04T06:19:08.350474Z"
    }
   },
   "outputs": [],
   "source": [
    "import pandas as pd\n",
    "import sqlite3\n",
    "import matplotlib.pyplot as plt\n",
    "import seaborn as sns\n",
    "\n",
    "import warnings\n",
    "warnings.filterwarnings('ignore')"
   ]
  },
  {
   "cell_type": "markdown",
   "id": "86f35fbb",
   "metadata": {},
   "source": [
    "## Load Dataset"
   ]
  },
  {
   "cell_type": "code",
   "execution_count": 2,
   "id": "c762d373",
   "metadata": {
    "ExecuteTime": {
     "end_time": "2025-07-04T06:08:51.000291Z",
     "start_time": "2025-07-04T06:08:50.788592Z"
    }
   },
   "outputs": [],
   "source": [
    "df = pd.read_csv(\"Data/sales_data_sample.csv\", encoding='ISO-8859-1')"
   ]
  },
  {
   "cell_type": "code",
   "execution_count": 3,
   "id": "b30874ba",
   "metadata": {
    "ExecuteTime": {
     "end_time": "2025-07-04T06:08:51.051976Z",
     "start_time": "2025-07-04T06:08:51.003355Z"
    }
   },
   "outputs": [
    {
     "data": {
      "text/html": [
       "<div>\n",
       "<style scoped>\n",
       "    .dataframe tbody tr th:only-of-type {\n",
       "        vertical-align: middle;\n",
       "    }\n",
       "\n",
       "    .dataframe tbody tr th {\n",
       "        vertical-align: top;\n",
       "    }\n",
       "\n",
       "    .dataframe thead th {\n",
       "        text-align: right;\n",
       "    }\n",
       "</style>\n",
       "<table border=\"1\" class=\"dataframe\">\n",
       "  <thead>\n",
       "    <tr style=\"text-align: right;\">\n",
       "      <th></th>\n",
       "      <th>ORDERNUMBER</th>\n",
       "      <th>QUANTITYORDERED</th>\n",
       "      <th>PRICEEACH</th>\n",
       "      <th>ORDERLINENUMBER</th>\n",
       "      <th>SALES</th>\n",
       "      <th>ORDERDATE</th>\n",
       "      <th>STATUS</th>\n",
       "      <th>QTR_ID</th>\n",
       "      <th>MONTH_ID</th>\n",
       "      <th>YEAR_ID</th>\n",
       "      <th>...</th>\n",
       "      <th>ADDRESSLINE1</th>\n",
       "      <th>ADDRESSLINE2</th>\n",
       "      <th>CITY</th>\n",
       "      <th>STATE</th>\n",
       "      <th>POSTALCODE</th>\n",
       "      <th>COUNTRY</th>\n",
       "      <th>TERRITORY</th>\n",
       "      <th>CONTACTLASTNAME</th>\n",
       "      <th>CONTACTFIRSTNAME</th>\n",
       "      <th>DEALSIZE</th>\n",
       "    </tr>\n",
       "  </thead>\n",
       "  <tbody>\n",
       "    <tr>\n",
       "      <th>0</th>\n",
       "      <td>10107</td>\n",
       "      <td>30</td>\n",
       "      <td>95.70</td>\n",
       "      <td>2</td>\n",
       "      <td>2871.00</td>\n",
       "      <td>2/24/2003 0:00</td>\n",
       "      <td>Shipped</td>\n",
       "      <td>1</td>\n",
       "      <td>2</td>\n",
       "      <td>2003</td>\n",
       "      <td>...</td>\n",
       "      <td>897 Long Airport Avenue</td>\n",
       "      <td>NaN</td>\n",
       "      <td>NYC</td>\n",
       "      <td>NY</td>\n",
       "      <td>10022</td>\n",
       "      <td>USA</td>\n",
       "      <td>NaN</td>\n",
       "      <td>Yu</td>\n",
       "      <td>Kwai</td>\n",
       "      <td>Small</td>\n",
       "    </tr>\n",
       "    <tr>\n",
       "      <th>1</th>\n",
       "      <td>10121</td>\n",
       "      <td>34</td>\n",
       "      <td>81.35</td>\n",
       "      <td>5</td>\n",
       "      <td>2765.90</td>\n",
       "      <td>5/7/2003 0:00</td>\n",
       "      <td>Shipped</td>\n",
       "      <td>2</td>\n",
       "      <td>5</td>\n",
       "      <td>2003</td>\n",
       "      <td>...</td>\n",
       "      <td>59 rue de l'Abbaye</td>\n",
       "      <td>NaN</td>\n",
       "      <td>Reims</td>\n",
       "      <td>NaN</td>\n",
       "      <td>51100</td>\n",
       "      <td>France</td>\n",
       "      <td>EMEA</td>\n",
       "      <td>Henriot</td>\n",
       "      <td>Paul</td>\n",
       "      <td>Small</td>\n",
       "    </tr>\n",
       "    <tr>\n",
       "      <th>2</th>\n",
       "      <td>10134</td>\n",
       "      <td>41</td>\n",
       "      <td>94.74</td>\n",
       "      <td>2</td>\n",
       "      <td>3884.34</td>\n",
       "      <td>7/1/2003 0:00</td>\n",
       "      <td>Shipped</td>\n",
       "      <td>3</td>\n",
       "      <td>7</td>\n",
       "      <td>2003</td>\n",
       "      <td>...</td>\n",
       "      <td>27 rue du Colonel Pierre Avia</td>\n",
       "      <td>NaN</td>\n",
       "      <td>Paris</td>\n",
       "      <td>NaN</td>\n",
       "      <td>75508</td>\n",
       "      <td>France</td>\n",
       "      <td>EMEA</td>\n",
       "      <td>Da Cunha</td>\n",
       "      <td>Daniel</td>\n",
       "      <td>Medium</td>\n",
       "    </tr>\n",
       "    <tr>\n",
       "      <th>3</th>\n",
       "      <td>10145</td>\n",
       "      <td>45</td>\n",
       "      <td>83.26</td>\n",
       "      <td>6</td>\n",
       "      <td>3746.70</td>\n",
       "      <td>8/25/2003 0:00</td>\n",
       "      <td>Shipped</td>\n",
       "      <td>3</td>\n",
       "      <td>8</td>\n",
       "      <td>2003</td>\n",
       "      <td>...</td>\n",
       "      <td>78934 Hillside Dr.</td>\n",
       "      <td>NaN</td>\n",
       "      <td>Pasadena</td>\n",
       "      <td>CA</td>\n",
       "      <td>90003</td>\n",
       "      <td>USA</td>\n",
       "      <td>NaN</td>\n",
       "      <td>Young</td>\n",
       "      <td>Julie</td>\n",
       "      <td>Medium</td>\n",
       "    </tr>\n",
       "    <tr>\n",
       "      <th>4</th>\n",
       "      <td>10159</td>\n",
       "      <td>49</td>\n",
       "      <td>100.00</td>\n",
       "      <td>14</td>\n",
       "      <td>5205.27</td>\n",
       "      <td>10/10/2003 0:00</td>\n",
       "      <td>Shipped</td>\n",
       "      <td>4</td>\n",
       "      <td>10</td>\n",
       "      <td>2003</td>\n",
       "      <td>...</td>\n",
       "      <td>7734 Strong St.</td>\n",
       "      <td>NaN</td>\n",
       "      <td>San Francisco</td>\n",
       "      <td>CA</td>\n",
       "      <td>NaN</td>\n",
       "      <td>USA</td>\n",
       "      <td>NaN</td>\n",
       "      <td>Brown</td>\n",
       "      <td>Julie</td>\n",
       "      <td>Medium</td>\n",
       "    </tr>\n",
       "    <tr>\n",
       "      <th>...</th>\n",
       "      <td>...</td>\n",
       "      <td>...</td>\n",
       "      <td>...</td>\n",
       "      <td>...</td>\n",
       "      <td>...</td>\n",
       "      <td>...</td>\n",
       "      <td>...</td>\n",
       "      <td>...</td>\n",
       "      <td>...</td>\n",
       "      <td>...</td>\n",
       "      <td>...</td>\n",
       "      <td>...</td>\n",
       "      <td>...</td>\n",
       "      <td>...</td>\n",
       "      <td>...</td>\n",
       "      <td>...</td>\n",
       "      <td>...</td>\n",
       "      <td>...</td>\n",
       "      <td>...</td>\n",
       "      <td>...</td>\n",
       "      <td>...</td>\n",
       "    </tr>\n",
       "    <tr>\n",
       "      <th>2818</th>\n",
       "      <td>10350</td>\n",
       "      <td>20</td>\n",
       "      <td>100.00</td>\n",
       "      <td>15</td>\n",
       "      <td>2244.40</td>\n",
       "      <td>12/2/2004 0:00</td>\n",
       "      <td>Shipped</td>\n",
       "      <td>4</td>\n",
       "      <td>12</td>\n",
       "      <td>2004</td>\n",
       "      <td>...</td>\n",
       "      <td>C/ Moralzarzal, 86</td>\n",
       "      <td>NaN</td>\n",
       "      <td>Madrid</td>\n",
       "      <td>NaN</td>\n",
       "      <td>28034</td>\n",
       "      <td>Spain</td>\n",
       "      <td>EMEA</td>\n",
       "      <td>Freyre</td>\n",
       "      <td>Diego</td>\n",
       "      <td>Small</td>\n",
       "    </tr>\n",
       "    <tr>\n",
       "      <th>2819</th>\n",
       "      <td>10373</td>\n",
       "      <td>29</td>\n",
       "      <td>100.00</td>\n",
       "      <td>1</td>\n",
       "      <td>3978.51</td>\n",
       "      <td>1/31/2005 0:00</td>\n",
       "      <td>Shipped</td>\n",
       "      <td>1</td>\n",
       "      <td>1</td>\n",
       "      <td>2005</td>\n",
       "      <td>...</td>\n",
       "      <td>Torikatu 38</td>\n",
       "      <td>NaN</td>\n",
       "      <td>Oulu</td>\n",
       "      <td>NaN</td>\n",
       "      <td>90110</td>\n",
       "      <td>Finland</td>\n",
       "      <td>EMEA</td>\n",
       "      <td>Koskitalo</td>\n",
       "      <td>Pirkko</td>\n",
       "      <td>Medium</td>\n",
       "    </tr>\n",
       "    <tr>\n",
       "      <th>2820</th>\n",
       "      <td>10386</td>\n",
       "      <td>43</td>\n",
       "      <td>100.00</td>\n",
       "      <td>4</td>\n",
       "      <td>5417.57</td>\n",
       "      <td>3/1/2005 0:00</td>\n",
       "      <td>Resolved</td>\n",
       "      <td>1</td>\n",
       "      <td>3</td>\n",
       "      <td>2005</td>\n",
       "      <td>...</td>\n",
       "      <td>C/ Moralzarzal, 86</td>\n",
       "      <td>NaN</td>\n",
       "      <td>Madrid</td>\n",
       "      <td>NaN</td>\n",
       "      <td>28034</td>\n",
       "      <td>Spain</td>\n",
       "      <td>EMEA</td>\n",
       "      <td>Freyre</td>\n",
       "      <td>Diego</td>\n",
       "      <td>Medium</td>\n",
       "    </tr>\n",
       "    <tr>\n",
       "      <th>2821</th>\n",
       "      <td>10397</td>\n",
       "      <td>34</td>\n",
       "      <td>62.24</td>\n",
       "      <td>1</td>\n",
       "      <td>2116.16</td>\n",
       "      <td>3/28/2005 0:00</td>\n",
       "      <td>Shipped</td>\n",
       "      <td>1</td>\n",
       "      <td>3</td>\n",
       "      <td>2005</td>\n",
       "      <td>...</td>\n",
       "      <td>1 rue Alsace-Lorraine</td>\n",
       "      <td>NaN</td>\n",
       "      <td>Toulouse</td>\n",
       "      <td>NaN</td>\n",
       "      <td>31000</td>\n",
       "      <td>France</td>\n",
       "      <td>EMEA</td>\n",
       "      <td>Roulet</td>\n",
       "      <td>Annette</td>\n",
       "      <td>Small</td>\n",
       "    </tr>\n",
       "    <tr>\n",
       "      <th>2822</th>\n",
       "      <td>10414</td>\n",
       "      <td>47</td>\n",
       "      <td>65.52</td>\n",
       "      <td>9</td>\n",
       "      <td>3079.44</td>\n",
       "      <td>5/6/2005 0:00</td>\n",
       "      <td>On Hold</td>\n",
       "      <td>2</td>\n",
       "      <td>5</td>\n",
       "      <td>2005</td>\n",
       "      <td>...</td>\n",
       "      <td>8616 Spinnaker Dr.</td>\n",
       "      <td>NaN</td>\n",
       "      <td>Boston</td>\n",
       "      <td>MA</td>\n",
       "      <td>51003</td>\n",
       "      <td>USA</td>\n",
       "      <td>NaN</td>\n",
       "      <td>Yoshido</td>\n",
       "      <td>Juri</td>\n",
       "      <td>Medium</td>\n",
       "    </tr>\n",
       "  </tbody>\n",
       "</table>\n",
       "<p>2823 rows × 25 columns</p>\n",
       "</div>"
      ],
      "text/plain": [
       "      ORDERNUMBER  QUANTITYORDERED  PRICEEACH  ORDERLINENUMBER    SALES  \\\n",
       "0           10107               30      95.70                2  2871.00   \n",
       "1           10121               34      81.35                5  2765.90   \n",
       "2           10134               41      94.74                2  3884.34   \n",
       "3           10145               45      83.26                6  3746.70   \n",
       "4           10159               49     100.00               14  5205.27   \n",
       "...           ...              ...        ...              ...      ...   \n",
       "2818        10350               20     100.00               15  2244.40   \n",
       "2819        10373               29     100.00                1  3978.51   \n",
       "2820        10386               43     100.00                4  5417.57   \n",
       "2821        10397               34      62.24                1  2116.16   \n",
       "2822        10414               47      65.52                9  3079.44   \n",
       "\n",
       "            ORDERDATE    STATUS  QTR_ID  MONTH_ID  YEAR_ID  ...  \\\n",
       "0      2/24/2003 0:00   Shipped       1         2     2003  ...   \n",
       "1       5/7/2003 0:00   Shipped       2         5     2003  ...   \n",
       "2       7/1/2003 0:00   Shipped       3         7     2003  ...   \n",
       "3      8/25/2003 0:00   Shipped       3         8     2003  ...   \n",
       "4     10/10/2003 0:00   Shipped       4        10     2003  ...   \n",
       "...               ...       ...     ...       ...      ...  ...   \n",
       "2818   12/2/2004 0:00   Shipped       4        12     2004  ...   \n",
       "2819   1/31/2005 0:00   Shipped       1         1     2005  ...   \n",
       "2820    3/1/2005 0:00  Resolved       1         3     2005  ...   \n",
       "2821   3/28/2005 0:00   Shipped       1         3     2005  ...   \n",
       "2822    5/6/2005 0:00   On Hold       2         5     2005  ...   \n",
       "\n",
       "                       ADDRESSLINE1  ADDRESSLINE2           CITY STATE  \\\n",
       "0           897 Long Airport Avenue           NaN            NYC    NY   \n",
       "1                59 rue de l'Abbaye           NaN          Reims   NaN   \n",
       "2     27 rue du Colonel Pierre Avia           NaN          Paris   NaN   \n",
       "3                78934 Hillside Dr.           NaN       Pasadena    CA   \n",
       "4                   7734 Strong St.           NaN  San Francisco    CA   \n",
       "...                             ...           ...            ...   ...   \n",
       "2818             C/ Moralzarzal, 86           NaN         Madrid   NaN   \n",
       "2819                    Torikatu 38           NaN           Oulu   NaN   \n",
       "2820             C/ Moralzarzal, 86           NaN         Madrid   NaN   \n",
       "2821          1 rue Alsace-Lorraine           NaN       Toulouse   NaN   \n",
       "2822             8616 Spinnaker Dr.           NaN         Boston    MA   \n",
       "\n",
       "     POSTALCODE  COUNTRY TERRITORY CONTACTLASTNAME CONTACTFIRSTNAME DEALSIZE  \n",
       "0         10022      USA       NaN              Yu             Kwai    Small  \n",
       "1         51100   France      EMEA         Henriot             Paul    Small  \n",
       "2         75508   France      EMEA        Da Cunha           Daniel   Medium  \n",
       "3         90003      USA       NaN           Young            Julie   Medium  \n",
       "4           NaN      USA       NaN           Brown            Julie   Medium  \n",
       "...         ...      ...       ...             ...              ...      ...  \n",
       "2818      28034    Spain      EMEA          Freyre            Diego    Small  \n",
       "2819      90110  Finland      EMEA       Koskitalo           Pirkko   Medium  \n",
       "2820      28034    Spain      EMEA          Freyre            Diego   Medium  \n",
       "2821      31000   France      EMEA          Roulet          Annette    Small  \n",
       "2822      51003      USA       NaN         Yoshido             Juri   Medium  \n",
       "\n",
       "[2823 rows x 25 columns]"
      ]
     },
     "execution_count": 3,
     "metadata": {},
     "output_type": "execute_result"
    }
   ],
   "source": [
    "df"
   ]
  },
  {
   "cell_type": "code",
   "execution_count": 4,
   "id": "6d6219c4",
   "metadata": {
    "ExecuteTime": {
     "end_time": "2025-07-04T06:08:51.071428Z",
     "start_time": "2025-07-04T06:08:51.054548Z"
    }
   },
   "outputs": [
    {
     "name": "stdout",
     "output_type": "stream",
     "text": [
      "<class 'pandas.core.frame.DataFrame'>\n",
      "RangeIndex: 2823 entries, 0 to 2822\n",
      "Data columns (total 25 columns):\n",
      " #   Column            Non-Null Count  Dtype  \n",
      "---  ------            --------------  -----  \n",
      " 0   ORDERNUMBER       2823 non-null   int64  \n",
      " 1   QUANTITYORDERED   2823 non-null   int64  \n",
      " 2   PRICEEACH         2823 non-null   float64\n",
      " 3   ORDERLINENUMBER   2823 non-null   int64  \n",
      " 4   SALES             2823 non-null   float64\n",
      " 5   ORDERDATE         2823 non-null   object \n",
      " 6   STATUS            2823 non-null   object \n",
      " 7   QTR_ID            2823 non-null   int64  \n",
      " 8   MONTH_ID          2823 non-null   int64  \n",
      " 9   YEAR_ID           2823 non-null   int64  \n",
      " 10  PRODUCTLINE       2823 non-null   object \n",
      " 11  MSRP              2823 non-null   int64  \n",
      " 12  PRODUCTCODE       2823 non-null   object \n",
      " 13  CUSTOMERNAME      2823 non-null   object \n",
      " 14  PHONE             2823 non-null   object \n",
      " 15  ADDRESSLINE1      2823 non-null   object \n",
      " 16  ADDRESSLINE2      302 non-null    object \n",
      " 17  CITY              2823 non-null   object \n",
      " 18  STATE             1337 non-null   object \n",
      " 19  POSTALCODE        2747 non-null   object \n",
      " 20  COUNTRY           2823 non-null   object \n",
      " 21  TERRITORY         1749 non-null   object \n",
      " 22  CONTACTLASTNAME   2823 non-null   object \n",
      " 23  CONTACTFIRSTNAME  2823 non-null   object \n",
      " 24  DEALSIZE          2823 non-null   object \n",
      "dtypes: float64(2), int64(7), object(16)\n",
      "memory usage: 551.5+ KB\n"
     ]
    }
   ],
   "source": [
    "df.info()"
   ]
  },
  {
   "cell_type": "markdown",
   "id": "2d869c7a",
   "metadata": {},
   "source": [
    "## Select only relevant columns"
   ]
  },
  {
   "cell_type": "code",
   "execution_count": 7,
   "id": "c8516116",
   "metadata": {
    "ExecuteTime": {
     "end_time": "2025-07-04T06:16:29.844367Z",
     "start_time": "2025-07-04T06:16:29.838857Z"
    }
   },
   "outputs": [],
   "source": [
    "# Select only relevant columns\n",
    "\n",
    "df = df[['ORDERNUMBER','PRODUCTLINE', 'QUANTITYORDERED', 'PRICEEACH', 'SALES', 'ORDERDATE', 'COUNTRY' ]]"
   ]
  },
  {
   "cell_type": "code",
   "execution_count": 12,
   "id": "e7417f96",
   "metadata": {
    "ExecuteTime": {
     "end_time": "2025-07-04T06:19:14.158179Z",
     "start_time": "2025-07-04T06:19:14.141816Z"
    }
   },
   "outputs": [],
   "source": [
    "df['ORDERDATE'] = pd.to_datetime(df['ORDERDATE'])"
   ]
  },
  {
   "cell_type": "code",
   "execution_count": 10,
   "id": "9a68c5bb",
   "metadata": {
    "ExecuteTime": {
     "end_time": "2025-07-04T06:17:28.690351Z",
     "start_time": "2025-07-04T06:17:28.678124Z"
    }
   },
   "outputs": [
    {
     "data": {
      "text/html": [
       "<div>\n",
       "<style scoped>\n",
       "    .dataframe tbody tr th:only-of-type {\n",
       "        vertical-align: middle;\n",
       "    }\n",
       "\n",
       "    .dataframe tbody tr th {\n",
       "        vertical-align: top;\n",
       "    }\n",
       "\n",
       "    .dataframe thead th {\n",
       "        text-align: right;\n",
       "    }\n",
       "</style>\n",
       "<table border=\"1\" class=\"dataframe\">\n",
       "  <thead>\n",
       "    <tr style=\"text-align: right;\">\n",
       "      <th></th>\n",
       "      <th>ORDERNUMBER</th>\n",
       "      <th>PRODUCTLINE</th>\n",
       "      <th>QUANTITYORDERED</th>\n",
       "      <th>PRICEEACH</th>\n",
       "      <th>SALES</th>\n",
       "      <th>ORDERDATE</th>\n",
       "      <th>COUNTRY</th>\n",
       "    </tr>\n",
       "  </thead>\n",
       "  <tbody>\n",
       "    <tr>\n",
       "      <th>0</th>\n",
       "      <td>10107</td>\n",
       "      <td>Motorcycles</td>\n",
       "      <td>30</td>\n",
       "      <td>95.70</td>\n",
       "      <td>2871.00</td>\n",
       "      <td>2003-02-24</td>\n",
       "      <td>USA</td>\n",
       "    </tr>\n",
       "    <tr>\n",
       "      <th>1</th>\n",
       "      <td>10121</td>\n",
       "      <td>Motorcycles</td>\n",
       "      <td>34</td>\n",
       "      <td>81.35</td>\n",
       "      <td>2765.90</td>\n",
       "      <td>2003-05-07</td>\n",
       "      <td>France</td>\n",
       "    </tr>\n",
       "    <tr>\n",
       "      <th>2</th>\n",
       "      <td>10134</td>\n",
       "      <td>Motorcycles</td>\n",
       "      <td>41</td>\n",
       "      <td>94.74</td>\n",
       "      <td>3884.34</td>\n",
       "      <td>2003-07-01</td>\n",
       "      <td>France</td>\n",
       "    </tr>\n",
       "    <tr>\n",
       "      <th>3</th>\n",
       "      <td>10145</td>\n",
       "      <td>Motorcycles</td>\n",
       "      <td>45</td>\n",
       "      <td>83.26</td>\n",
       "      <td>3746.70</td>\n",
       "      <td>2003-08-25</td>\n",
       "      <td>USA</td>\n",
       "    </tr>\n",
       "    <tr>\n",
       "      <th>4</th>\n",
       "      <td>10159</td>\n",
       "      <td>Motorcycles</td>\n",
       "      <td>49</td>\n",
       "      <td>100.00</td>\n",
       "      <td>5205.27</td>\n",
       "      <td>2003-10-10</td>\n",
       "      <td>USA</td>\n",
       "    </tr>\n",
       "    <tr>\n",
       "      <th>...</th>\n",
       "      <td>...</td>\n",
       "      <td>...</td>\n",
       "      <td>...</td>\n",
       "      <td>...</td>\n",
       "      <td>...</td>\n",
       "      <td>...</td>\n",
       "      <td>...</td>\n",
       "    </tr>\n",
       "    <tr>\n",
       "      <th>2818</th>\n",
       "      <td>10350</td>\n",
       "      <td>Ships</td>\n",
       "      <td>20</td>\n",
       "      <td>100.00</td>\n",
       "      <td>2244.40</td>\n",
       "      <td>2004-12-02</td>\n",
       "      <td>Spain</td>\n",
       "    </tr>\n",
       "    <tr>\n",
       "      <th>2819</th>\n",
       "      <td>10373</td>\n",
       "      <td>Ships</td>\n",
       "      <td>29</td>\n",
       "      <td>100.00</td>\n",
       "      <td>3978.51</td>\n",
       "      <td>2005-01-31</td>\n",
       "      <td>Finland</td>\n",
       "    </tr>\n",
       "    <tr>\n",
       "      <th>2820</th>\n",
       "      <td>10386</td>\n",
       "      <td>Ships</td>\n",
       "      <td>43</td>\n",
       "      <td>100.00</td>\n",
       "      <td>5417.57</td>\n",
       "      <td>2005-03-01</td>\n",
       "      <td>Spain</td>\n",
       "    </tr>\n",
       "    <tr>\n",
       "      <th>2821</th>\n",
       "      <td>10397</td>\n",
       "      <td>Ships</td>\n",
       "      <td>34</td>\n",
       "      <td>62.24</td>\n",
       "      <td>2116.16</td>\n",
       "      <td>2005-03-28</td>\n",
       "      <td>France</td>\n",
       "    </tr>\n",
       "    <tr>\n",
       "      <th>2822</th>\n",
       "      <td>10414</td>\n",
       "      <td>Ships</td>\n",
       "      <td>47</td>\n",
       "      <td>65.52</td>\n",
       "      <td>3079.44</td>\n",
       "      <td>2005-05-06</td>\n",
       "      <td>USA</td>\n",
       "    </tr>\n",
       "  </tbody>\n",
       "</table>\n",
       "<p>2823 rows × 7 columns</p>\n",
       "</div>"
      ],
      "text/plain": [
       "      ORDERNUMBER  PRODUCTLINE  QUANTITYORDERED  PRICEEACH    SALES  \\\n",
       "0           10107  Motorcycles               30      95.70  2871.00   \n",
       "1           10121  Motorcycles               34      81.35  2765.90   \n",
       "2           10134  Motorcycles               41      94.74  3884.34   \n",
       "3           10145  Motorcycles               45      83.26  3746.70   \n",
       "4           10159  Motorcycles               49     100.00  5205.27   \n",
       "...           ...          ...              ...        ...      ...   \n",
       "2818        10350        Ships               20     100.00  2244.40   \n",
       "2819        10373        Ships               29     100.00  3978.51   \n",
       "2820        10386        Ships               43     100.00  5417.57   \n",
       "2821        10397        Ships               34      62.24  2116.16   \n",
       "2822        10414        Ships               47      65.52  3079.44   \n",
       "\n",
       "      ORDERDATE  COUNTRY  \n",
       "0    2003-02-24      USA  \n",
       "1    2003-05-07   France  \n",
       "2    2003-07-01   France  \n",
       "3    2003-08-25      USA  \n",
       "4    2003-10-10      USA  \n",
       "...         ...      ...  \n",
       "2818 2004-12-02    Spain  \n",
       "2819 2005-01-31  Finland  \n",
       "2820 2005-03-01    Spain  \n",
       "2821 2005-03-28   France  \n",
       "2822 2005-05-06      USA  \n",
       "\n",
       "[2823 rows x 7 columns]"
      ]
     },
     "execution_count": 10,
     "metadata": {},
     "output_type": "execute_result"
    }
   ],
   "source": [
    "df"
   ]
  },
  {
   "cell_type": "markdown",
   "id": "fa85c964",
   "metadata": {},
   "source": [
    "## Renaming columns"
   ]
  },
  {
   "cell_type": "code",
   "execution_count": 13,
   "id": "c6e9c248",
   "metadata": {
    "ExecuteTime": {
     "end_time": "2025-07-04T06:22:36.020180Z",
     "start_time": "2025-07-04T06:22:36.014615Z"
    }
   },
   "outputs": [],
   "source": [
    "# Renaming columns\n",
    "\n",
    "df.rename(columns={\n",
    "    'ORDERNUMBER': 'order_number',\n",
    "    'PRODUCTLINE': 'product_line',\n",
    "    'QUANTITYORDERED': 'quantity',\n",
    "    'PRICEEACH': 'price_each',\n",
    "    'SALES': 'sales',\n",
    "    'ORDERDATE': 'order_date',\n",
    "    'COUNTRY': 'country'\n",
    "}, inplace=True)\n"
   ]
  },
  {
   "cell_type": "code",
   "execution_count": 14,
   "id": "2e92fc56",
   "metadata": {
    "ExecuteTime": {
     "end_time": "2025-07-04T06:22:42.688885Z",
     "start_time": "2025-07-04T06:22:42.677851Z"
    }
   },
   "outputs": [
    {
     "data": {
      "text/html": [
       "<div>\n",
       "<style scoped>\n",
       "    .dataframe tbody tr th:only-of-type {\n",
       "        vertical-align: middle;\n",
       "    }\n",
       "\n",
       "    .dataframe tbody tr th {\n",
       "        vertical-align: top;\n",
       "    }\n",
       "\n",
       "    .dataframe thead th {\n",
       "        text-align: right;\n",
       "    }\n",
       "</style>\n",
       "<table border=\"1\" class=\"dataframe\">\n",
       "  <thead>\n",
       "    <tr style=\"text-align: right;\">\n",
       "      <th></th>\n",
       "      <th>order_number</th>\n",
       "      <th>product_line</th>\n",
       "      <th>quantity</th>\n",
       "      <th>price_each</th>\n",
       "      <th>sales</th>\n",
       "      <th>order_date</th>\n",
       "      <th>country</th>\n",
       "    </tr>\n",
       "  </thead>\n",
       "  <tbody>\n",
       "    <tr>\n",
       "      <th>0</th>\n",
       "      <td>10107</td>\n",
       "      <td>Motorcycles</td>\n",
       "      <td>30</td>\n",
       "      <td>95.70</td>\n",
       "      <td>2871.00</td>\n",
       "      <td>2003-02-24</td>\n",
       "      <td>USA</td>\n",
       "    </tr>\n",
       "    <tr>\n",
       "      <th>1</th>\n",
       "      <td>10121</td>\n",
       "      <td>Motorcycles</td>\n",
       "      <td>34</td>\n",
       "      <td>81.35</td>\n",
       "      <td>2765.90</td>\n",
       "      <td>2003-05-07</td>\n",
       "      <td>France</td>\n",
       "    </tr>\n",
       "    <tr>\n",
       "      <th>2</th>\n",
       "      <td>10134</td>\n",
       "      <td>Motorcycles</td>\n",
       "      <td>41</td>\n",
       "      <td>94.74</td>\n",
       "      <td>3884.34</td>\n",
       "      <td>2003-07-01</td>\n",
       "      <td>France</td>\n",
       "    </tr>\n",
       "    <tr>\n",
       "      <th>3</th>\n",
       "      <td>10145</td>\n",
       "      <td>Motorcycles</td>\n",
       "      <td>45</td>\n",
       "      <td>83.26</td>\n",
       "      <td>3746.70</td>\n",
       "      <td>2003-08-25</td>\n",
       "      <td>USA</td>\n",
       "    </tr>\n",
       "    <tr>\n",
       "      <th>4</th>\n",
       "      <td>10159</td>\n",
       "      <td>Motorcycles</td>\n",
       "      <td>49</td>\n",
       "      <td>100.00</td>\n",
       "      <td>5205.27</td>\n",
       "      <td>2003-10-10</td>\n",
       "      <td>USA</td>\n",
       "    </tr>\n",
       "    <tr>\n",
       "      <th>...</th>\n",
       "      <td>...</td>\n",
       "      <td>...</td>\n",
       "      <td>...</td>\n",
       "      <td>...</td>\n",
       "      <td>...</td>\n",
       "      <td>...</td>\n",
       "      <td>...</td>\n",
       "    </tr>\n",
       "    <tr>\n",
       "      <th>2818</th>\n",
       "      <td>10350</td>\n",
       "      <td>Ships</td>\n",
       "      <td>20</td>\n",
       "      <td>100.00</td>\n",
       "      <td>2244.40</td>\n",
       "      <td>2004-12-02</td>\n",
       "      <td>Spain</td>\n",
       "    </tr>\n",
       "    <tr>\n",
       "      <th>2819</th>\n",
       "      <td>10373</td>\n",
       "      <td>Ships</td>\n",
       "      <td>29</td>\n",
       "      <td>100.00</td>\n",
       "      <td>3978.51</td>\n",
       "      <td>2005-01-31</td>\n",
       "      <td>Finland</td>\n",
       "    </tr>\n",
       "    <tr>\n",
       "      <th>2820</th>\n",
       "      <td>10386</td>\n",
       "      <td>Ships</td>\n",
       "      <td>43</td>\n",
       "      <td>100.00</td>\n",
       "      <td>5417.57</td>\n",
       "      <td>2005-03-01</td>\n",
       "      <td>Spain</td>\n",
       "    </tr>\n",
       "    <tr>\n",
       "      <th>2821</th>\n",
       "      <td>10397</td>\n",
       "      <td>Ships</td>\n",
       "      <td>34</td>\n",
       "      <td>62.24</td>\n",
       "      <td>2116.16</td>\n",
       "      <td>2005-03-28</td>\n",
       "      <td>France</td>\n",
       "    </tr>\n",
       "    <tr>\n",
       "      <th>2822</th>\n",
       "      <td>10414</td>\n",
       "      <td>Ships</td>\n",
       "      <td>47</td>\n",
       "      <td>65.52</td>\n",
       "      <td>3079.44</td>\n",
       "      <td>2005-05-06</td>\n",
       "      <td>USA</td>\n",
       "    </tr>\n",
       "  </tbody>\n",
       "</table>\n",
       "<p>2823 rows × 7 columns</p>\n",
       "</div>"
      ],
      "text/plain": [
       "      order_number product_line  quantity  price_each    sales order_date  \\\n",
       "0            10107  Motorcycles        30       95.70  2871.00 2003-02-24   \n",
       "1            10121  Motorcycles        34       81.35  2765.90 2003-05-07   \n",
       "2            10134  Motorcycles        41       94.74  3884.34 2003-07-01   \n",
       "3            10145  Motorcycles        45       83.26  3746.70 2003-08-25   \n",
       "4            10159  Motorcycles        49      100.00  5205.27 2003-10-10   \n",
       "...            ...          ...       ...         ...      ...        ...   \n",
       "2818         10350        Ships        20      100.00  2244.40 2004-12-02   \n",
       "2819         10373        Ships        29      100.00  3978.51 2005-01-31   \n",
       "2820         10386        Ships        43      100.00  5417.57 2005-03-01   \n",
       "2821         10397        Ships        34       62.24  2116.16 2005-03-28   \n",
       "2822         10414        Ships        47       65.52  3079.44 2005-05-06   \n",
       "\n",
       "      country  \n",
       "0         USA  \n",
       "1      France  \n",
       "2      France  \n",
       "3         USA  \n",
       "4         USA  \n",
       "...       ...  \n",
       "2818    Spain  \n",
       "2819  Finland  \n",
       "2820    Spain  \n",
       "2821   France  \n",
       "2822      USA  \n",
       "\n",
       "[2823 rows x 7 columns]"
      ]
     },
     "execution_count": 14,
     "metadata": {},
     "output_type": "execute_result"
    }
   ],
   "source": [
    "df"
   ]
  },
  {
   "cell_type": "code",
   "execution_count": 15,
   "id": "d23d3e97",
   "metadata": {
    "ExecuteTime": {
     "end_time": "2025-07-04T06:22:54.283538Z",
     "start_time": "2025-07-04T06:22:54.276309Z"
    }
   },
   "outputs": [
    {
     "name": "stdout",
     "output_type": "stream",
     "text": [
      "<class 'pandas.core.frame.DataFrame'>\n",
      "RangeIndex: 2823 entries, 0 to 2822\n",
      "Data columns (total 7 columns):\n",
      " #   Column        Non-Null Count  Dtype         \n",
      "---  ------        --------------  -----         \n",
      " 0   order_number  2823 non-null   int64         \n",
      " 1   product_line  2823 non-null   object        \n",
      " 2   quantity      2823 non-null   int64         \n",
      " 3   price_each    2823 non-null   float64       \n",
      " 4   sales         2823 non-null   float64       \n",
      " 5   order_date    2823 non-null   datetime64[ns]\n",
      " 6   country       2823 non-null   object        \n",
      "dtypes: datetime64[ns](1), float64(2), int64(2), object(2)\n",
      "memory usage: 154.5+ KB\n"
     ]
    }
   ],
   "source": [
    "df.info()"
   ]
  },
  {
   "cell_type": "markdown",
   "id": "3520ee79",
   "metadata": {},
   "source": [
    "## Create connection"
   ]
  },
  {
   "cell_type": "code",
   "execution_count": 16,
   "id": "6b01a47b",
   "metadata": {
    "ExecuteTime": {
     "end_time": "2025-07-04T06:27:41.771167Z",
     "start_time": "2025-07-04T06:27:41.767611Z"
    }
   },
   "outputs": [],
   "source": [
    "# Create connection\n",
    "conn = sqlite3.connect(\"sales_data.db\")"
   ]
  },
  {
   "cell_type": "markdown",
   "id": "4bd41b62",
   "metadata": {},
   "source": [
    "## Save dataframe as SQL table"
   ]
  },
  {
   "cell_type": "code",
   "execution_count": 17,
   "id": "a368a9a9",
   "metadata": {
    "ExecuteTime": {
     "end_time": "2025-07-04T06:28:06.113916Z",
     "start_time": "2025-07-04T06:28:06.063779Z"
    }
   },
   "outputs": [
    {
     "data": {
      "text/plain": [
       "2823"
      ]
     },
     "execution_count": 17,
     "metadata": {},
     "output_type": "execute_result"
    }
   ],
   "source": [
    "# Save dataframe as SQL table\n",
    "df.to_sql(\"sales\", conn, if_exists=\"replace\", index=False)\n"
   ]
  },
  {
   "cell_type": "code",
   "execution_count": 41,
   "id": "12e985ea",
   "metadata": {
    "ExecuteTime": {
     "end_time": "2025-07-04T07:00:42.277389Z",
     "start_time": "2025-07-04T07:00:42.272857Z"
    }
   },
   "outputs": [
    {
     "name": "stdout",
     "output_type": "stream",
     "text": [
      "Tables in DB: [('sales',)]\n"
     ]
    }
   ],
   "source": [
    "# List all tables\n",
    "cursor = conn.cursor()\n",
    "cursor.execute(\"SELECT name FROM sqlite_master WHERE type='table';\")\n",
    "tables = cursor.fetchall()\n",
    "print(\"Tables in DB:\", tables)"
   ]
  },
  {
   "cell_type": "code",
   "execution_count": 48,
   "id": "321e08b0",
   "metadata": {
    "ExecuteTime": {
     "end_time": "2025-07-04T07:05:04.545519Z",
     "start_time": "2025-07-04T07:05:04.540844Z"
    }
   },
   "outputs": [
    {
     "name": "stdout",
     "output_type": "stream",
     "text": [
      "Schema for 'sales' table:\n",
      "order_number (INTEGER)\n",
      "product_line (TEXT)\n",
      "quantity (INTEGER)\n",
      "price_each (REAL)\n",
      "sales (REAL)\n",
      "order_date (TIMESTAMP)\n",
      "country (TEXT)\n"
     ]
    }
   ],
   "source": [
    "# View table structure\n",
    "cursor.execute(\"PRAGMA table_info(sales);\")\n",
    "columns = cursor.fetchall()\n",
    "\n",
    "# Pretty print the schema\n",
    "print(\"Schema for 'sales' table:\")\n",
    "for col in columns:\n",
    "    print(f\"{col[1]} ({col[2]})\")"
   ]
  },
  {
   "cell_type": "code",
   "execution_count": 56,
   "id": "be8092ea",
   "metadata": {
    "ExecuteTime": {
     "end_time": "2025-07-04T07:05:09.113793Z",
     "start_time": "2025-07-04T07:05:09.101539Z"
    }
   },
   "outputs": [
    {
     "name": "stdout",
     "output_type": "stream",
     "text": [
      "      order_number product_line  quantity  price_each    sales  \\\n",
      "0            10107  Motorcycles        30       95.70  2871.00   \n",
      "1            10121  Motorcycles        34       81.35  2765.90   \n",
      "2            10134  Motorcycles        41       94.74  3884.34   \n",
      "3            10145  Motorcycles        45       83.26  3746.70   \n",
      "4            10159  Motorcycles        49      100.00  5205.27   \n",
      "...            ...          ...       ...         ...      ...   \n",
      "2818         10350        Ships        20      100.00  2244.40   \n",
      "2819         10373        Ships        29      100.00  3978.51   \n",
      "2820         10386        Ships        43      100.00  5417.57   \n",
      "2821         10397        Ships        34       62.24  2116.16   \n",
      "2822         10414        Ships        47       65.52  3079.44   \n",
      "\n",
      "               order_date  country  \n",
      "0     2003-02-24 00:00:00      USA  \n",
      "1     2003-05-07 00:00:00   France  \n",
      "2     2003-07-01 00:00:00   France  \n",
      "3     2003-08-25 00:00:00      USA  \n",
      "4     2003-10-10 00:00:00      USA  \n",
      "...                   ...      ...  \n",
      "2818  2004-12-02 00:00:00    Spain  \n",
      "2819  2005-01-31 00:00:00  Finland  \n",
      "2820  2005-03-01 00:00:00    Spain  \n",
      "2821  2005-03-28 00:00:00   France  \n",
      "2822  2005-05-06 00:00:00      USA  \n",
      "\n",
      "[2823 rows x 7 columns]\n"
     ]
    }
   ],
   "source": [
    "# Fetch the rows\n",
    "df_sales = pd.read_sql_query(\"SELECT * FROM sales;\", conn)\n",
    "print(df_sales)"
   ]
  },
  {
   "cell_type": "markdown",
   "id": "2e1077e6",
   "metadata": {},
   "source": [
    "## Queries and Visuals"
   ]
  },
  {
   "cell_type": "markdown",
   "id": "46063087",
   "metadata": {},
   "source": [
    "### Total Revenue and Quantity"
   ]
  },
  {
   "cell_type": "code",
   "execution_count": 60,
   "id": "a373f8da",
   "metadata": {
    "ExecuteTime": {
     "end_time": "2025-07-04T07:05:13.720910Z",
     "start_time": "2025-07-04T07:05:13.716205Z"
    }
   },
   "outputs": [
    {
     "name": "stdout",
     "output_type": "stream",
     "text": [
      "   total_quantity  total_revenue\n",
      "0           99067    10032628.85\n"
     ]
    }
   ],
   "source": [
    "query = \"\"\"\n",
    "SELECT \n",
    "    SUM(quantity) AS total_quantity, \n",
    "    SUM(sales) AS total_revenue \n",
    "FROM sales\n",
    "\"\"\"\n",
    "result = pd.read_sql_query(query, conn)\n",
    "print(result)"
   ]
  },
  {
   "cell_type": "markdown",
   "id": "119d35df",
   "metadata": {},
   "source": [
    "### Revenue by Country"
   ]
  },
  {
   "cell_type": "code",
   "execution_count": 65,
   "id": "71e07c82",
   "metadata": {
    "ExecuteTime": {
     "end_time": "2025-07-04T07:05:19.269811Z",
     "start_time": "2025-07-04T07:05:19.262907Z"
    }
   },
   "outputs": [
    {
     "name": "stdout",
     "output_type": "stream",
     "text": [
      "        country  total_sales\n",
      "0           USA   3627982.83\n",
      "1         Spain   1215686.92\n",
      "2        France   1110916.52\n",
      "3     Australia    630623.10\n",
      "4            UK    478880.46\n",
      "5         Italy    374674.31\n",
      "6       Finland    329581.91\n",
      "7        Norway    307463.70\n",
      "8     Singapore    288488.41\n",
      "9       Denmark    245637.15\n",
      "10       Canada    224078.56\n",
      "11      Germany    220472.09\n",
      "12       Sweden    210014.21\n",
      "13      Austria    202062.53\n",
      "14        Japan    188167.81\n",
      "15  Switzerland    117713.56\n",
      "16      Belgium    108412.62\n",
      "17  Philippines     94015.73\n",
      "18      Ireland     57756.43\n"
     ]
    }
   ],
   "source": [
    "query = \"\"\"\n",
    "SELECT country, SUM(sales) AS total_sales\n",
    "FROM sales\n",
    "GROUP BY country\n",
    "ORDER BY total_sales DESC\n",
    "\"\"\"\n",
    "df_country_sales = pd.read_sql_query(query, conn)\n",
    "print(df_country_sales)\n"
   ]
  },
  {
   "cell_type": "code",
   "execution_count": 71,
   "id": "71886f26",
   "metadata": {
    "ExecuteTime": {
     "end_time": "2025-07-04T07:05:26.837259Z",
     "start_time": "2025-07-04T07:05:26.501420Z"
    }
   },
   "outputs": [
    {
     "data": {
      "image/png": "[encoded data removed]",
      "text/plain": [
       "<Figure size 640x480 with 1 Axes>"
      ]
     },
     "metadata": {},
     "output_type": "display_data"
    }
   ],
   "source": [
    "df_country_sales.plot(kind='bar', x='country', y='total_sales', title='Revenue by Country')\n",
    "plt.ylabel(\"Total Sales\")\n",
    "plt.xticks(rotation=45)\n",
    "plt.tight_layout()\n",
    "plt.show()"
   ]
  },
  {
   "cell_type": "markdown",
   "id": "ab483998",
   "metadata": {},
   "source": [
    "### Revenue by Product Line"
   ]
  },
  {
   "cell_type": "code",
   "execution_count": 76,
   "id": "322b25d8",
   "metadata": {
    "ExecuteTime": {
     "end_time": "2025-07-04T07:05:36.202108Z",
     "start_time": "2025-07-04T07:05:36.195984Z"
    }
   },
   "outputs": [
    {
     "name": "stdout",
     "output_type": "stream",
     "text": [
      "       product_line  total_sales\n",
      "0      Classic Cars   3919615.66\n",
      "1       Motorcycles   1166388.34\n",
      "2            Planes    975003.57\n",
      "3             Ships    714437.13\n",
      "4            Trains    226243.47\n",
      "5  Trucks and Buses   1127789.84\n",
      "6      Vintage Cars   1903150.84\n"
     ]
    }
   ],
   "source": [
    "query = \"\"\"\n",
    "SELECT product_line, SUM(sales) AS total_sales\n",
    "FROM sales\n",
    "GROUP BY product_line\n",
    "\"\"\"\n",
    "df_revenue = pd.read_sql_query(query, conn)\n",
    "print(df_revenue)\n"
   ]
  },
  {
   "cell_type": "code",
   "execution_count": 78,
   "id": "0e443fc2",
   "metadata": {
    "ExecuteTime": {
     "end_time": "2025-07-04T07:05:42.453114Z",
     "start_time": "2025-07-04T07:05:42.213989Z"
    }
   },
   "outputs": [
    {
     "data": {
      "image/png": "[encoded data removed]",
      "text/plain": [
       "<Figure size 640x480 with 1 Axes>"
      ]
     },
     "metadata": {},
     "output_type": "display_data"
    }
   ],
   "source": [
    "df_revenue.plot(kind='barh', x='product_line', y='total_sales', legend=False)\n",
    "plt.title(\"Revenue by Product Line\")\n",
    "plt.xlabel(\"Total Sales\")\n",
    "plt.tight_layout()\n",
    "plt.show()"
   ]
  },
  {
   "cell_type": "markdown",
   "id": "5cd0b283",
   "metadata": {},
   "source": [
    "### Monthly Sales Trend"
   ]
  },
  {
   "cell_type": "code",
   "execution_count": 80,
   "id": "915237a7",
   "metadata": {
    "ExecuteTime": {
     "end_time": "2025-07-04T07:05:52.413363Z",
     "start_time": "2025-07-04T07:05:52.406223Z"
    }
   },
   "outputs": [
    {
     "name": "stdout",
     "output_type": "stream",
     "text": [
      "      month  total_sales\n",
      "0   2003-01    129753.60\n",
      "1   2003-02    140836.19\n",
      "2   2003-03    174504.90\n",
      "3   2003-04    201609.55\n",
      "4   2003-05    192673.11\n",
      "5   2003-06    168082.56\n",
      "6   2003-07    187731.88\n",
      "7   2003-08    197809.30\n",
      "8   2003-09    263973.36\n",
      "9   2003-10    568290.97\n",
      "10  2003-11   1029837.66\n",
      "11  2003-12    261876.46\n",
      "12  2004-01    316577.42\n",
      "13  2004-02    311419.53\n",
      "14  2004-03    205733.73\n",
      "15  2004-04    206148.12\n",
      "16  2004-05    273438.39\n",
      "17  2004-06    286674.22\n",
      "18  2004-07    327144.09\n",
      "19  2004-08    461501.27\n",
      "20  2004-09    320750.91\n",
      "21  2004-10    552924.25\n",
      "22  2004-11   1089048.01\n",
      "23  2004-12    372802.66\n",
      "24  2005-01    339543.42\n",
      "25  2005-02    358186.18\n",
      "26  2005-03    374262.76\n",
      "27  2005-04    261633.29\n",
      "28  2005-05    457861.06\n"
     ]
    }
   ],
   "source": [
    "query = \"\"\"\n",
    "SELECT \n",
    "    SUBSTR(order_date, 1, 7) AS month, \n",
    "    SUM(sales) AS total_sales\n",
    "FROM sales\n",
    "GROUP BY month\n",
    "ORDER BY month\n",
    "\"\"\"\n",
    "df_monthly = pd.read_sql_query(query, conn)\n",
    "print(df_monthly)\n"
   ]
  },
  {
   "cell_type": "code",
   "execution_count": 83,
   "id": "513baed5",
   "metadata": {
    "ExecuteTime": {
     "end_time": "2025-07-04T07:05:57.551957Z",
     "start_time": "2025-07-04T07:05:57.332815Z"
    }
   },
   "outputs": [
    {
     "data": {
      "image/png": "[encoded data removed]",
      "text/plain": [
       "<Figure size 640x480 with 1 Axes>"
      ]
     },
     "metadata": {},
     "output_type": "display_data"
    }
   ],
   "source": [
    "df_monthly.plot(kind='line', x='month', y='total_sales', marker='o', title='Monthly Sales Trend')\n",
    "plt.xticks(rotation=45)\n",
    "plt.ylabel(\"Total Sales\")\n",
    "plt.grid(True)\n",
    "plt.tight_layout()\n",
    "plt.show()"
   ]
  },
  {
   "cell_type": "markdown",
   "id": "b7867c16",
   "metadata": {},
   "source": [
    "### Average Order Value by Product Line"
   ]
  },
  {
   "cell_type": "code",
   "execution_count": 87,
   "id": "5df72302",
   "metadata": {
    "ExecuteTime": {
     "end_time": "2025-07-04T07:06:04.190051Z",
     "start_time": "2025-07-04T07:06:04.183019Z"
    }
   },
   "outputs": [
    {
     "name": "stdout",
     "output_type": "stream",
     "text": [
      "       product_line  avg_order_value\n",
      "0      Classic Cars      4053.377104\n",
      "1  Trucks and Buses      3746.810100\n",
      "2       Motorcycles      3523.831843\n",
      "3            Planes      3186.286176\n",
      "4      Vintage Cars      3135.339110\n",
      "5             Ships      3053.150128\n",
      "6            Trains      2938.226883\n"
     ]
    }
   ],
   "source": [
    "query = \"\"\"\n",
    "SELECT \n",
    "    product_line,\n",
    "    AVG(sales) AS avg_order_value\n",
    "FROM sales\n",
    "GROUP BY product_line\n",
    "ORDER BY avg_order_value DESC\n",
    "\"\"\"\n",
    "df_aov = pd.read_sql_query(query, conn)\n",
    "print(df_aov)"
   ]
  },
  {
   "cell_type": "code",
   "execution_count": 89,
   "id": "67908d9f",
   "metadata": {
    "ExecuteTime": {
     "end_time": "2025-07-04T07:06:09.386252Z",
     "start_time": "2025-07-04T07:06:09.109418Z"
    }
   },
   "outputs": [
    {
     "data": {
      "image/png": "[encoded data removed]",
      "text/plain": [
       "<Figure size 640x480 with 1 Axes>"
      ]
     },
     "metadata": {},
     "output_type": "display_data"
    }
   ],
   "source": [
    "df_aov.plot(kind='barh', x='product_line', y='avg_order_value', color='skyblue', title='Avg Order Value by Product Line')\n",
    "plt.xlabel(\"Average Order Value\")\n",
    "plt.tight_layout()\n",
    "plt.show()\n"
   ]
  },
  {
   "cell_type": "markdown",
   "id": "f7d49430",
   "metadata": {},
   "source": [
    "### Most Frequently Ordered Product Line"
   ]
  },
  {
   "cell_type": "code",
   "execution_count": 92,
   "id": "f4abb378",
   "metadata": {
    "ExecuteTime": {
     "end_time": "2025-07-04T07:06:14.070172Z",
     "start_time": "2025-07-04T07:06:14.064103Z"
    }
   },
   "outputs": [
    {
     "name": "stdout",
     "output_type": "stream",
     "text": [
      "       product_line  order_count\n",
      "0      Classic Cars          967\n",
      "1      Vintage Cars          607\n",
      "2       Motorcycles          331\n",
      "3            Planes          306\n",
      "4  Trucks and Buses          301\n",
      "5             Ships          234\n",
      "6            Trains           77\n"
     ]
    }
   ],
   "source": [
    "query = \"\"\"\n",
    "SELECT \n",
    "    product_line, \n",
    "    COUNT(*) AS order_count\n",
    "FROM sales\n",
    "GROUP BY product_line\n",
    "ORDER BY order_count DESC\n",
    "\"\"\"\n",
    "df_freq = pd.read_sql_query(query, conn)\n",
    "print(df_freq)"
   ]
  },
  {
   "cell_type": "code",
   "execution_count": 94,
   "id": "3e6a266b",
   "metadata": {
    "ExecuteTime": {
     "end_time": "2025-07-04T07:06:20.340727Z",
     "start_time": "2025-07-04T07:06:20.118805Z"
    }
   },
   "outputs": [
    {
     "data": {
      "image/png": "[encoded data removed]",
      "text/plain": [
       "<Figure size 640x480 with 1 Axes>"
      ]
     },
     "metadata": {},
     "output_type": "display_data"
    }
   ],
   "source": [
    "df_freq.plot(kind='bar', x='product_line', y='order_count', title='Most Ordered Product Lines')\n",
    "plt.ylabel(\"Number of Orders\")\n",
    "plt.tight_layout()\n",
    "plt.show()\n"
   ]
  },
  {
   "cell_type": "markdown",
   "id": "8415e8d0",
   "metadata": {},
   "source": [
    "### Country-wise Average Sale per Order"
   ]
  },
  {
   "cell_type": "code",
   "execution_count": 98,
   "id": "c6472966",
   "metadata": {
    "ExecuteTime": {
     "end_time": "2025-07-04T07:06:25.054288Z",
     "start_time": "2025-07-04T07:06:25.045430Z"
    }
   },
   "outputs": [
    {
     "name": "stdout",
     "output_type": "stream",
     "text": [
      "        country  total_orders  total_sales  avg_sale_per_order\n",
      "0       Denmark            63    245637.15             3899.00\n",
      "1   Switzerland            31    117713.56             3797.21\n",
      "2        Sweden            57    210014.21             3684.46\n",
      "3       Austria            55    202062.53             3673.86\n",
      "4     Singapore            79    288488.41             3651.75\n",
      "5         Japan            52    188167.81             3618.61\n",
      "6        Norway            85    307463.70             3617.22\n",
      "7   Philippines            26     94015.73             3615.99\n",
      "8           USA          1004   3627982.83             3613.53\n",
      "9       Ireland            16     57756.43             3609.78\n",
      "10      Finland            92    329581.91             3582.41\n",
      "11      Germany            62    220472.09             3556.00\n",
      "12        Spain           342   1215686.92             3554.64\n",
      "13       France           314   1110916.52             3537.95\n",
      "14    Australia           185    630623.10             3408.77\n",
      "15           UK           144    478880.46             3325.56\n",
      "16        Italy           113    374674.31             3315.70\n",
      "17      Belgium            33    108412.62             3285.23\n",
      "18       Canada            70    224078.56             3201.12\n"
     ]
    }
   ],
   "source": [
    "query = \"\"\"\n",
    "SELECT \n",
    "    country, \n",
    "    COUNT(*) AS total_orders,\n",
    "    SUM(sales) AS total_sales,\n",
    "    ROUND(SUM(sales) / COUNT(*), 2) AS avg_sale_per_order\n",
    "FROM sales\n",
    "GROUP BY country\n",
    "ORDER BY avg_sale_per_order DESC\n",
    "\n",
    "\"\"\"\n",
    "df_avg_sale = pd.read_sql_query(query, conn)\n",
    "print(df_avg_sale)"
   ]
  },
  {
   "cell_type": "code",
   "execution_count": 101,
   "id": "7ac282b9",
   "metadata": {
    "ExecuteTime": {
     "end_time": "2025-07-04T07:06:29.377579Z",
     "start_time": "2025-07-04T07:06:29.045281Z"
    }
   },
   "outputs": [
    {
     "data": {
      "image/png": "[encoded data removed]",
      "text/plain": [
       "<Figure size 640x480 with 1 Axes>"
      ]
     },
     "metadata": {},
     "output_type": "display_data"
    }
   ],
   "source": [
    "df_avg_sale.plot(kind='barh', x='country', y='avg_sale_per_order', color='orange', title='Avg Sale per Order by Country')\n",
    "plt.xlabel(\"Average Sale Per Order\")\n",
    "plt.tight_layout()\n",
    "plt.show()"
   ]
  },
  {
   "cell_type": "code",
   "execution_count": null,
   "id": "bfcc31b1",
   "metadata": {},
   "outputs": [],
   "source": []
  },
  {
   "cell_type": "code",
   "execution_count": null,
   "id": "311cd880",
   "metadata": {},
   "outputs": [],
   "source": []
  },
  {
   "cell_type": "code",
   "execution_count": null,
   "id": "e1e62678",
   "metadata": {},
   "outputs": [],
   "source": []
  }
 ],
 "metadata": {
  "gist": {
   "data": {
    "description": "D_Documents/Elevate_Labs/Files/sales_data_analysis_sqlite.ipynb",
    "public": true
   },
   "id": ""
  },
  "hide_input": true,
  "kernelspec": {
   "display_name": "Python 3 (ipykernel)",
   "language": "python",
   "name": "python3"
  },
  "language_info": {
   "codemirror_mode": {
    "name": "ipython",
    "version": 3
   },
   "file_extension": ".py",
   "mimetype": "text/x-python",
   "name": "python",
   "nbconvert_exporter": "python",
   "pygments_lexer": "ipython3",
   "version": "3.12.3"
  },
  "toc": {
   "base_numbering": 1,
   "nav_menu": {},
   "number_sections": true,
   "sideBar": true,
   "skip_h1_title": false,
   "title_cell": "Table of Contents",
   "title_sidebar": "Contents",
   "toc_cell": false,
   "toc_position": {},
   "toc_section_display": true,
   "toc_window_display": false
  },
  "varInspector": {
   "cols": {
    "lenName": 16,
    "lenType": 16,
    "lenVar": 40
   },
   "kernels_config": {
    "python": {
     "delete_cmd_postfix": "",
     "delete_cmd_prefix": "del ",
     "library": "var_list.py",
     "varRefreshCmd": "print(var_dic_list())"
    },
    "r": {
     "delete_cmd_postfix": ") ",
     "delete_cmd_prefix": "rm(",
     "library": "var_list.r",
     "varRefreshCmd": "cat(var_dic_list()) "
    }
   },
   "oldHeight": 361.84999999999997,
   "position": {
    "height": "40px",
    "left": "897px",
    "right": "20px",
    "top": "68px",
    "width": "512px"
   },
   "types_to_exclude": [
    "module",
    "function",
    "builtin_function_or_method",
    "instance",
    "_Feature"
   ],
   "varInspector_section_display": "none",
   "window_display": true
  }
 },
 "nbformat": 4,
 "nbformat_minor": 5
}
